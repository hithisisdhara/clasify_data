{
 "cells": [
  {
   "cell_type": "markdown",
   "metadata": {},
   "source": [
    "# Try stanford core nlp wrapper\n",
    "### https://github.com/Lynten/stanford-corenlp\n",
    "### First, download and unzip stanford core nlp \n",
    "### Then, pip install stanfordcorenlp, a wrapper around the core NLP, which is in java"
   ]
  },
  {
   "cell_type": "code",
   "execution_count": 1,
   "metadata": {
    "collapsed": true
   },
   "outputs": [],
   "source": [
    "path = '/home/dharashah/Documents/Spring_18/DeepLearning/project/java_libraries/stanford-corenlp-full-2018-02-27'"
   ]
  },
  {
   "cell_type": "code",
   "execution_count": 3,
   "metadata": {
    "collapsed": false
   },
   "outputs": [
    {
     "name": "stdout",
     "output_type": "stream",
     "text": [
      "Tokenize: [u'Guangdong', u'University', u'of', u'Foreign', u'Studies', u'is', u'located', u'in', u'Guangzhou', u'.']\n",
      "Part of Speech: [(u'Guangdong', u'NNP'), (u'University', u'NNP'), (u'of', u'IN'), (u'Foreign', u'NNP'), (u'Studies', u'NNPS'), (u'is', u'VBZ'), (u'located', u'JJ'), (u'in', u'IN'), (u'Guangzhou', u'NNP'), (u'.', u'.')]\n",
      "Named Entities: [(u'Guangdong', u'ORGANIZATION'), (u'University', u'ORGANIZATION'), (u'of', u'ORGANIZATION'), (u'Foreign', u'ORGANIZATION'), (u'Studies', u'ORGANIZATION'), (u'is', u'O'), (u'located', u'O'), (u'in', u'O'), (u'Guangzhou', u'CITY'), (u'.', u'O')]\n",
      "Constituency Parsing: (ROOT\n",
      "  (S\n",
      "    (NP\n",
      "      (NP (NNP Guangdong) (NNP University))\n",
      "      (PP (IN of)\n",
      "        (NP (NNP Foreign) (NNPS Studies))))\n",
      "    (VP (VBZ is)\n",
      "      (ADJP (JJ located)\n",
      "        (PP (IN in)\n",
      "          (NP (NNP Guangzhou)))))\n",
      "    (. .)))\n",
      "Dependency Parsing: [(u'ROOT', 0, 7), (u'compound', 2, 1), (u'nsubjpass', 7, 2), (u'case', 5, 3), (u'compound', 5, 4), (u'nmod', 2, 5), (u'auxpass', 7, 6), (u'case', 9, 8), (u'nmod', 7, 9), (u'punct', 7, 10)]\n"
     ]
    }
   ],
   "source": [
    "# Simple usage\n",
    "from stanfordcorenlp import StanfordCoreNLP\n",
    "\n",
    "nlp = StanfordCoreNLP(path)\n",
    "\n",
    "sentence = 'Guangdong University of Foreign Studies is located in Guangzhou.'\n",
    "print 'Tokenize:', nlp.word_tokenize(sentence)\n",
    "print 'Part of Speech:', nlp.pos_tag(sentence)\n",
    "print 'Named Entities:', nlp.ner(sentence)\n",
    "print 'Constituency Parsing:', nlp.parse(sentence)\n",
    "print 'Dependency Parsing:', nlp.dependency_parse(sentence)\n",
    "\n",
    "nlp.close() # Do not forget to close! The backend server will consume a lot memery."
   ]
  },
  {
   "cell_type": "markdown",
   "metadata": {},
   "source": [
    "# Try out for what I want to do: "
   ]
  },
  {
   "cell_type": "code",
   "execution_count": 14,
   "metadata": {
    "collapsed": false
   },
   "outputs": [
    {
     "name": "stdout",
     "output_type": "stream",
     "text": [
      "\n"
     ]
    }
   ],
   "source": [
    "sentence= \"'' Home Movie '' is a sweet treasure and something well worth your time .\"\n",
    "sentence='Barak Obama is a good man'"
   ]
  },
  {
   "cell_type": "code",
   "execution_count": 18,
   "metadata": {
    "collapsed": false
   },
   "outputs": [
    {
     "name": "stdout",
     "output_type": "stream",
     "text": [
      "<?xml version=\"1.0\" encoding=\"UTF-8\"?>\r\n",
      "<?xml-stylesheet href=\"CoreNLP-to-HTML.xsl\" type=\"text/xsl\"?>\r\n",
      "<root><document><sentences><sentence id=\"1\" sentimentValue=\"3\" sentiment=\"Positive\"><tokens><token id=\"1\"><word>Barak</word><CharacterOffsetBegin>0</CharacterOffsetBegin><CharacterOffsetEnd>5</CharacterOffsetEnd><POS>NNP</POS><sentiment>Neutral</sentiment></token><token id=\"2\"><word>Obama</word><CharacterOffsetBegin>6</CharacterOffsetBegin><CharacterOffsetEnd>11</CharacterOffsetEnd><POS>NNP</POS><sentiment>Neutral</sentiment></token><token id=\"3\"><word>is</word><CharacterOffsetBegin>12</CharacterOffsetBegin><CharacterOffsetEnd>14</CharacterOffsetEnd><POS>VBZ</POS><sentiment>Neutral</sentiment></token><token id=\"4\"><word>a</word><CharacterOffsetBegin>15</CharacterOffsetBegin><CharacterOffsetEnd>16</CharacterOffsetEnd><POS>DT</POS><sentiment>Neutral</sentiment></token><token id=\"5\"><word>good</word><CharacterOffsetBegin>17</CharacterOffsetBegin><CharacterOffsetEnd>21</CharacterOffsetEnd><POS>JJ</POS><sentiment>Positive</sentiment></token><token id=\"6\"><word>man</word><CharacterOffsetBegin>22</CharacterOffsetBegin><CharacterOffsetEnd>25</CharacterOffsetEnd><POS>NN</POS><sentiment>Neutral</sentiment></token></tokens><parse>(ROOT\n",
      "  (S\n",
      "    (NP (NNP Barak) (NNP Obama))\n",
      "    (VP (VBZ is)\n",
      "      (NP (DT a) (JJ good) (NN man)))))\n",
      "\n",
      "</parse><dependencies type=\"basic-dependencies\"><dep type=\"root\"><governor idx=\"0\">ROOT</governor><dependent idx=\"6\">man</dependent></dep><dep type=\"compound\"><governor idx=\"2\">Obama</governor><dependent idx=\"1\">Barak</dependent></dep><dep type=\"nsubj\"><governor idx=\"6\">man</governor><dependent idx=\"2\">Obama</dependent></dep><dep type=\"cop\"><governor idx=\"6\">man</governor><dependent idx=\"3\">is</dependent></dep><dep type=\"det\"><governor idx=\"6\">man</governor><dependent idx=\"4\">a</dependent></dep><dep type=\"amod\"><governor idx=\"6\">man</governor><dependent idx=\"5\">good</dependent></dep></dependencies><dependencies type=\"collapsed-dependencies\"><dep type=\"root\"><governor idx=\"0\">ROOT</governor><dependent idx=\"6\">man</dependent></dep><dep type=\"compound\"><governor idx=\"2\">Obama</governor><dependent idx=\"1\">Barak</dependent></dep><dep type=\"nsubj\"><governor idx=\"6\">man</governor><dependent idx=\"2\">Obama</dependent></dep><dep type=\"cop\"><governor idx=\"6\">man</governor><dependent idx=\"3\">is</dependent></dep><dep type=\"det\"><governor idx=\"6\">man</governor><dependent idx=\"4\">a</dependent></dep><dep type=\"amod\"><governor idx=\"6\">man</governor><dependent idx=\"5\">good</dependent></dep></dependencies><dependencies type=\"collapsed-ccprocessed-dependencies\"><dep type=\"root\"><governor idx=\"0\">ROOT</governor><dependent idx=\"6\">man</dependent></dep><dep type=\"compound\"><governor idx=\"2\">Obama</governor><dependent idx=\"1\">Barak</dependent></dep><dep type=\"nsubj\"><governor idx=\"6\">man</governor><dependent idx=\"2\">Obama</dependent></dep><dep type=\"cop\"><governor idx=\"6\">man</governor><dependent idx=\"3\">is</dependent></dep><dep type=\"det\"><governor idx=\"6\">man</governor><dependent idx=\"4\">a</dependent></dep><dep type=\"amod\"><governor idx=\"6\">man</governor><dependent idx=\"5\">good</dependent></dep></dependencies><dependencies type=\"enhanced-dependencies\"><dep type=\"root\"><governor idx=\"0\">ROOT</governor><dependent idx=\"6\">man</dependent></dep><dep type=\"compound\"><governor idx=\"2\">Obama</governor><dependent idx=\"1\">Barak</dependent></dep><dep type=\"nsubj\"><governor idx=\"6\">man</governor><dependent idx=\"2\">Obama</dependent></dep><dep type=\"cop\"><governor idx=\"6\">man</governor><dependent idx=\"3\">is</dependent></dep><dep type=\"det\"><governor idx=\"6\">man</governor><dependent idx=\"4\">a</dependent></dep><dep type=\"amod\"><governor idx=\"6\">man</governor><dependent idx=\"5\">good</dependent></dep></dependencies><dependencies type=\"enhanced-plus-plus-dependencies\"><dep type=\"root\"><governor idx=\"0\">ROOT</governor><dependent idx=\"6\">man</dependent></dep><dep type=\"compound\"><governor idx=\"2\">Obama</governor><dependent idx=\"1\">Barak</dependent></dep><dep type=\"nsubj\"><governor idx=\"6\">man</governor><dependent idx=\"2\">Obama</dependent></dep><dep type=\"cop\"><governor idx=\"6\">man</governor><dependent idx=\"3\">is</dependent></dep><dep type=\"det\"><governor idx=\"6\">man</governor><dependent idx=\"4\">a</dependent></dep><dep type=\"amod\"><governor idx=\"6\">man</governor><dependent idx=\"5\">good</dependent></dep></dependencies></sentence></sentences></document></root>\r\n",
      "\n"
     ]
    }
   ],
   "source": [
    "nlp = StanfordCoreNLP(path)\n",
    "#print 'Tokenize:', nlp.word_tokenize(sentence)\n",
    "#print 'Part of Speech:', nlp.pos_tag(sentence)\n",
    "#print 'Named Entities:', nlp.ner(sentence)\n",
    "#print 'Constituency Parsing:', nlp.parse(sentence)\n",
    "#print 'Dependency Parsing:', nlp.dependency_parse(sentence)\n",
    "props={'annotators': 'sentiment','pipelineLanguage':'en','outputFormat':'xml'}\n",
    "print nlp.annotate(sentence, properties=props)\n",
    "nlp.close()\n"
   ]
  },
  {
   "cell_type": "code",
   "execution_count": null,
   "metadata": {
    "collapsed": true
   },
   "outputs": [],
   "source": []
  }
 ],
 "metadata": {
  "kernelspec": {
   "display_name": "Python [default]",
   "language": "python",
   "name": "python2"
  },
  "language_info": {
   "codemirror_mode": {
    "name": "ipython",
    "version": 2
   },
   "file_extension": ".py",
   "mimetype": "text/x-python",
   "name": "python",
   "nbconvert_exporter": "python",
   "pygments_lexer": "ipython2",
   "version": "2.7.12"
  }
 },
 "nbformat": 4,
 "nbformat_minor": 1
}
